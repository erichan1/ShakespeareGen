{
 "cells": [
  {
   "cell_type": "code",
   "execution_count": 26,
   "metadata": {},
   "outputs": [],
   "source": [
    "def load_word_list(path):\n",
    "    \"\"\"\n",
    "    Loads a list of the words from the file at path <path>, removing all\n",
    "    non-alpha-numeric characters from the file.\n",
    "    \"\"\"\n",
    "    with open(path) as handle:\n",
    "        # Load a list of whitespace-delimited words from the specified file\n",
    "        raw_text = handle.read().strip().split()\n",
    "        # Strip non-alphanumeric characters from each word\n",
    "        alphanumeric_words = map(lambda word: ''.join(char for char in word), raw_text)\n",
    "        # Filter out words that are now empty (e.g. strings that only contained non-alphanumeric chars)\n",
    "        alphanumeric_words = filter(lambda word: len(word) > 0, alphanumeric_words)\n",
    "        # Convert each word to lowercase and return the result\n",
    "        return list(map(lambda word: word.lower(), alphanumeric_words))"
   ]
  },
  {
   "cell_type": "code",
   "execution_count": 55,
   "metadata": {},
   "outputs": [],
   "source": [
    "fname = './data/shakespeare.txt'\n",
    "all_text = load_word_list(fname)\n",
    "\n",
    "word_lst = []\n",
    "word_index = []\n",
    "\n",
    "numbers_lst = []\n",
    "for number in range(1,155):\n",
    "    numbers_lst.append(str(number))\n",
    "\n",
    "n=0\n",
    "for word in all_text:\n",
    "    if word not in word_lst and word not in numbers_lst: \n",
    "        word_lst.append(word)\n",
    "        word_index.append(n)\n",
    "        n+=1\n",
    "\n",
    "punctuations = [',','.','?','!',':',';']\n",
    "\n",
    "n = len(word_lst)\n",
    "for punct in punctuations:\n",
    "    word_lst.append(punct)\n",
    "    word_index.append(n)\n",
    "    n+=1\n",
    "    \n",
    "for i in range(len(word_lst)):\n",
    "    if word_lst[i][len(word_lst[i])-1] in punctuations:\n",
    "        word_lst[i] = word_lst[i][:-1]"
   ]
  },
  {
   "cell_type": "code",
   "execution_count": 92,
   "metadata": {},
   "outputs": [],
   "source": [
    "sentence_matrix = []\n",
    "\n",
    "file = open(fname)\n",
    "\n",
    "for line in file:\n",
    "    line_lst = []\n",
    "    words_in_line=line.split()\n",
    "    if words_in_line != []:\n",
    "        if words_in_line[0] not in numbers_lst:\n",
    "            for i in range(len(words_in_line)):\n",
    "                if words_in_line[i][len(words_in_line[i])-1] in punctuations:\n",
    "                    words_in_line[i] = words_in_line[i][:-1]\n",
    "                    words_in_line.append(words_in_line[i][len(words_in_line[i])-1]) \n",
    "            for word in words_in_line:\n",
    "                for i in range(len(word_lst)):\n",
    "                    if word_lst[i] == word:\n",
    "                        line_lst.append(word_index[i])\n",
    "        \n",
    "            sentence_matrix.append(line_lst)"
   ]
  },
  {
   "cell_type": "code",
   "execution_count": null,
   "metadata": {},
   "outputs": [],
   "source": []
  }
 ],
 "metadata": {
  "kernelspec": {
   "display_name": "Python 3",
   "language": "python",
   "name": "python3"
  },
  "language_info": {
   "codemirror_mode": {
    "name": "ipython",
    "version": 3
   },
   "file_extension": ".py",
   "mimetype": "text/x-python",
   "name": "python",
   "nbconvert_exporter": "python",
   "pygments_lexer": "ipython3",
   "version": "3.6.8"
  }
 },
 "nbformat": 4,
 "nbformat_minor": 2
}
